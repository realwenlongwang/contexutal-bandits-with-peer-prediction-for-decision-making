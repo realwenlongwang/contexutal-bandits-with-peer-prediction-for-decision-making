{
 "cells": [
  {
   "cell_type": "markdown",
   "metadata": {},
   "source": [
    "# Contextual Bandits Agent with Policy Gradient Method (Deterministic) in Prediction Markets Problem\n",
    "---\n",
    "This is a program that simulates an agent who trades in a prediction market. The problem that the prediction market aims to solve is to predict the real distribution of a random variable. We define the random variable as the colour of a bucket. The problem design comes from a human-subjective experiment for decision markets."
   ]
  },
  {
   "cell_type": "code",
   "execution_count": 7,
   "metadata": {},
   "outputs": [],
   "source": [
    "import numpy as np\n",
    "import pandas as pd\n",
    "import matplotlib.pyplot as plt\n",
    "from main import deterministic_training_notebook\n",
    "from Environment import ScoreFunction, DecisionRule"
   ]
  },
  {
   "cell_type": "code",
   "execution_count": null,
   "metadata": {},
   "outputs": [],
   "source": [
    "learning_rate_theta = 3e-4\n",
    "learning_rate_wv = 1e-3\n",
    "learning_rate_wq = 1e-1\n",
    "memory_size = 16\n",
    "batch_size = 16\n",
    "training_episodes = int(1e6)\n",
    "decay_rate = 0\n",
    "beta1 = 0.9\n",
    "beta2 = 0.9999\n",
    "# Algorithm: adam, momentum, regular\n",
    "algorithm = 'regular'\n",
    "learning_std = False\n",
    "fixed_std = 0.3\n",
    "# Bucket parameters\n",
    "pr_red_ball_red_bucket = 2/3\n",
    "pr_red_ball_blue_bucket = 1/3\n",
    "# prior_red_list = [0.7, 0.3]\n",
    "prior_red_list = None\n",
    "sq_agent_num=1 # total agent number will be (sq_agent_num +  3) * action_num\n",
    "action_num=2\n",
    "feature_num = 3\n",
    "score_func = ScoreFunction.LOG\n",
    "agent_list = []\n",
    "evaluation_step = 1\n",
    "explorer_learning = False\n",
    "\n",
    "agent_list, pd_outcome_list, prior_outcome_list, nb_outcome_list, loss_list = deterministic_training_notebook(agent_list, feature_num, action_num, learning_rate_theta, learning_rate_wv, learning_rate_wq,\n",
    "                                             memory_size, batch_size, training_episodes,\n",
    "                                             decay_rate, beta1, beta2, algorithm, pr_red_ball_red_bucket,\n",
    "                                             pr_red_ball_blue_bucket, prior_red_list, sq_agent_num,\n",
    "                                             explorer_learning, fixed_std, evaluation_step)\n"
   ]
  },
  {
   "cell_type": "code",
   "execution_count": null,
   "metadata": {},
   "outputs": [],
   "source": [
    "print(np.mean(prior_outcome_list))\n",
    "print(np.mean(pd_outcome_list))\n",
    "print(np.mean(nb_outcome_list))"
   ]
  },
  {
   "cell_type": "code",
   "execution_count": null,
   "metadata": {},
   "outputs": [],
   "source": [
    "print(np.sum(loss_list))\n",
    "plt.plot(loss_list)"
   ]
  },
  {
   "cell_type": "code",
   "execution_count": null,
   "metadata": {
    "pycharm": {
     "name": "#%%\n"
    },
    "scrolled": false
   },
   "outputs": [],
   "source": [
    "for action_agent_list in agent_list:\n",
    "    for agent in action_agent_list:\n",
    "        agent.reward_history_plot()\n",
    "        agent.mean_gradients_history_plot()\n",
    "        agent.mean_gradients_successive_dot_product_plot()\n",
    "    #     agent.mean_history_plot()\n",
    "        agent.mean_weights_history_plot()"
   ]
  },
  {
   "cell_type": "code",
   "execution_count": 6,
   "metadata": {
    "scrolled": false
   },
   "outputs": [],
   "source": [
    "# agent_list[0].gradients_history_plot('q')\n",
    "# agent_list[0].gradients_successive_dot_product_plot('q')\n",
    "# #     agent.mean_history_plot()\n",
    "# agent_list[0].weights_history_plot('q')"
   ]
  },
  {
   "cell_type": "code",
   "execution_count": 7,
   "metadata": {},
   "outputs": [
    {
     "data": {
      "text/plain": [
       "array([[ 0.01613107,  0.06266245],\n",
       "       [ 0.0065514 , -0.02498846],\n",
       "       [ 0.05713842,  0.0127856 ],\n",
       "       [-0.01092689, -0.06594342],\n",
       "       [-0.04668794, -0.03421238],\n",
       "       [-0.09612956, -0.00364618]])"
      ]
     },
     "execution_count": 7,
     "metadata": {},
     "output_type": "execute_result"
    }
   ],
   "source": [
    "agent_list[0].w_q"
   ]
  },
  {
   "cell_type": "code",
   "execution_count": 8,
   "metadata": {},
   "outputs": [
    {
     "data": {
      "text/plain": [
       "array([[ 0.03737971, -0.00155561],\n",
       "       [ 0.00611195, -0.00452361],\n",
       "       [-0.01692968,  0.00832946],\n",
       "       [-0.01241121,  0.03555763],\n",
       "       [-0.00171688,  0.06363951],\n",
       "       [-0.01242466, -0.00942074]])"
      ]
     },
     "execution_count": 8,
     "metadata": {},
     "output_type": "execute_result"
    }
   ],
   "source": [
    "agent_list[0].w_v"
   ]
  },
  {
   "cell_type": "code",
   "execution_count": 9,
   "metadata": {},
   "outputs": [],
   "source": [
    "from Environment import BucketColour, Ball\n",
    "import numpy as np"
   ]
  },
  {
   "cell_type": "code",
   "execution_count": 10,
   "metadata": {},
   "outputs": [],
   "source": [
    "signal = agent_list[0].signal_encode(0, Ball.RED, 3/4)"
   ]
  },
  {
   "cell_type": "code",
   "execution_count": 11,
   "metadata": {},
   "outputs": [],
   "source": [
    "a = np.array([[0.1, 0.1]])\n",
    "phi_array =  np.matmul(signal.T, a)"
   ]
  },
  {
   "cell_type": "code",
   "execution_count": 12,
   "metadata": {},
   "outputs": [
    {
     "data": {
      "text/plain": [
       "array([[0.1       , 0.1       ],\n",
       "       [0.        , 0.        ],\n",
       "       [0.10986123, 0.10986123],\n",
       "       [0.        , 0.        ],\n",
       "       [0.        , 0.        ],\n",
       "       [0.10986123, 0.10986123]])"
      ]
     },
     "execution_count": 12,
     "metadata": {},
     "output_type": "execute_result"
    }
   ],
   "source": [
    "phi_array"
   ]
  },
  {
   "cell_type": "code",
   "execution_count": 31,
   "metadata": {},
   "outputs": [],
   "source": [
    "v_array = np.matmul(signal, agent_list[0].w_v)"
   ]
  },
  {
   "cell_type": "code",
   "execution_count": 32,
   "metadata": {},
   "outputs": [
    {
     "data": {
      "text/plain": [
       "array([[0.03632203, 0.01079974]])"
      ]
     },
     "execution_count": 32,
     "metadata": {},
     "output_type": "execute_result"
    }
   ],
   "source": [
    "v_array"
   ]
  },
  {
   "cell_type": "code",
   "execution_count": 33,
   "metadata": {},
   "outputs": [
    {
     "data": {
      "text/plain": [
       "array([[-0.00066399,  0.00138547]])"
      ]
     },
     "execution_count": 33,
     "metadata": {},
     "output_type": "execute_result"
    }
   ],
   "source": [
    "q_array = np.sum(phi_array * agent_list[0].w_q, axis=0, keepdims=True)\n",
    "q_array"
   ]
  },
  {
   "cell_type": "code",
   "execution_count": null,
   "metadata": {},
   "outputs": [],
   "source": []
  }
 ],
 "metadata": {
  "kernelspec": {
   "display_name": "PyCharm (contexutal-bandits-problem-continous-actionspace-prediction-market)",
   "language": "python",
   "name": "pycharm-edabad71"
  },
  "language_info": {
   "codemirror_mode": {
    "name": "ipython",
    "version": 3
   },
   "file_extension": ".py",
   "mimetype": "text/x-python",
   "name": "python",
   "nbconvert_exporter": "python",
   "pygments_lexer": "ipython3",
   "version": "3.9.9"
  }
 },
 "nbformat": 4,
 "nbformat_minor": 4
}
